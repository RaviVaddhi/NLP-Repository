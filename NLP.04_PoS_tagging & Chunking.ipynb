{
  "nbformat": 4,
  "nbformat_minor": 0,
  "metadata": {
    "colab": {
      "provenance": []
    },
    "kernelspec": {
      "name": "python3",
      "display_name": "Python 3"
    },
    "language_info": {
      "name": "python"
    }
  },
  "cells": [
    {
      "cell_type": "markdown",
      "source": [
        "Experiment-4 PoS tagging and chunking."
      ],
      "metadata": {
        "id": "e4LA98y1Mmxp"
      }
    },
    {
      "cell_type": "markdown",
      "source": [
        "(i)Parts Of Speech tagging"
      ],
      "metadata": {
        "id": "ZG8GrlrnsGvB"
      }
    },
    {
      "cell_type": "code",
      "execution_count": 13,
      "metadata": {
        "id": "5p-7kgr5Mh-G"
      },
      "outputs": [],
      "source": [
        "import nltk\n",
        "from nltk import pos_tag\n",
        "from nltk import word_tokenize"
      ]
    },
    {
      "cell_type": "code",
      "source": [
        "nltk.download('averaged_perceptron_tagger')\n",
        "nltk.download('punkt')"
      ],
      "metadata": {
        "colab": {
          "base_uri": "https://localhost:8080/"
        },
        "id": "siZwnhW8qi-a",
        "outputId": "d35afe8d-8ab1-440a-b88e-132b8cde4741"
      },
      "execution_count": 14,
      "outputs": [
        {
          "output_type": "stream",
          "name": "stderr",
          "text": [
            "[nltk_data] Downloading package averaged_perceptron_tagger to\n",
            "[nltk_data]     /root/nltk_data...\n",
            "[nltk_data]   Package averaged_perceptron_tagger is already up-to-\n",
            "[nltk_data]       date!\n",
            "[nltk_data] Downloading package punkt to /root/nltk_data...\n",
            "[nltk_data]   Package punkt is already up-to-date!\n"
          ]
        },
        {
          "output_type": "execute_result",
          "data": {
            "text/plain": [
              "True"
            ]
          },
          "metadata": {},
          "execution_count": 14
        }
      ]
    },
    {
      "cell_type": "code",
      "source": [
        "sample = \"The most powerful enemy is the most powerful YOU.\"\n",
        "tokenizer = word_tokenize(sample)"
      ],
      "metadata": {
        "id": "Exw3_ajuo3Hq"
      },
      "execution_count": 15,
      "outputs": []
    },
    {
      "cell_type": "code",
      "source": [
        "pos_tag(tokenizer)"
      ],
      "metadata": {
        "colab": {
          "base_uri": "https://localhost:8080/"
        },
        "id": "vsufITpwppf6",
        "outputId": "e2f7c933-8ede-4c23-f86d-0a9ddf1ea53e"
      },
      "execution_count": 16,
      "outputs": [
        {
          "output_type": "execute_result",
          "data": {
            "text/plain": [
              "[('The', 'DT'),\n",
              " ('most', 'RBS'),\n",
              " ('powerful', 'JJ'),\n",
              " ('enemy', 'NN'),\n",
              " ('is', 'VBZ'),\n",
              " ('the', 'DT'),\n",
              " ('most', 'RBS'),\n",
              " ('powerful', 'JJ'),\n",
              " ('YOU', 'NN'),\n",
              " ('.', '.')]"
            ]
          },
          "metadata": {},
          "execution_count": 16
        }
      ]
    },
    {
      "cell_type": "code",
      "source": [
        "from nltk.tag import DefaultTagger"
      ],
      "metadata": {
        "id": "ajOy0vNkrRd3"
      },
      "execution_count": 17,
      "outputs": []
    },
    {
      "cell_type": "code",
      "source": [
        "sample = \"The most powerful enemy is the most powerful YOU.\"\n",
        "tokenizer = word_tokenize(sample)\n",
        "tagging = DefaultTagger('Default')\n",
        "print(tagging.tag(tokenizer))"
      ],
      "metadata": {
        "colab": {
          "base_uri": "https://localhost:8080/"
        },
        "id": "01LTwVgXrpiH",
        "outputId": "1f6b41b9-cf39-4911-ed67-ac7a0d1950fe"
      },
      "execution_count": 18,
      "outputs": [
        {
          "output_type": "stream",
          "name": "stdout",
          "text": [
            "[('The', 'Default'), ('most', 'Default'), ('powerful', 'Default'), ('enemy', 'Default'), ('is', 'Default'), ('the', 'Default'), ('most', 'Default'), ('powerful', 'Default'), ('YOU', 'Default'), ('.', 'Default')]\n"
          ]
        }
      ]
    },
    {
      "cell_type": "markdown",
      "source": [
        "(ii)Chunking in NLP"
      ],
      "metadata": {
        "id": "7myIZnImsKav"
      }
    },
    {
      "cell_type": "code",
      "source": [
        "import nltk\n",
        "from nltk import word_tokenize\n",
        "from nltk import pos_tag\n",
        "from nltk import RegexpParser"
      ],
      "metadata": {
        "id": "UMTeQOeysOIu"
      },
      "execution_count": 19,
      "outputs": []
    },
    {
      "cell_type": "code",
      "source": [
        "sample_sentence = \"Sai is now flirting Piyush\"\n",
        "tokens = nltk.word_tokenize(sample_sentence)\n",
        "print(tokens)"
      ],
      "metadata": {
        "colab": {
          "base_uri": "https://localhost:8080/"
        },
        "id": "5FpGNo3Bsq8g",
        "outputId": "28389b9f-e060-48b9-e090-2358785cb4c7"
      },
      "execution_count": 20,
      "outputs": [
        {
          "output_type": "stream",
          "name": "stdout",
          "text": [
            "['Sai', 'is', 'now', 'flirting', 'Piyush']\n"
          ]
        }
      ]
    },
    {
      "cell_type": "code",
      "source": [
        "tag = nltk.pos_tag(tokens)\n",
        "print(tag)"
      ],
      "metadata": {
        "colab": {
          "base_uri": "https://localhost:8080/"
        },
        "id": "zN2NA8CAtmiZ",
        "outputId": "62acbeaf-2774-44bb-fd82-871d52ccb04d"
      },
      "execution_count": 21,
      "outputs": [
        {
          "output_type": "stream",
          "name": "stdout",
          "text": [
            "[('Sai', 'NNP'), ('is', 'VBZ'), ('now', 'RB'), ('flirting', 'VBG'), ('Piyush', 'NN')]\n"
          ]
        }
      ]
    },
    {
      "cell_type": "code",
      "source": [
        "grammar = \"NP: {<DT>?<JJ>*<NN>}\""
      ],
      "metadata": {
        "id": "xfBo3g1aIahp"
      },
      "execution_count": 22,
      "outputs": []
    },
    {
      "cell_type": "code",
      "source": [
        "cp = nltk.RegexpParser(grammar)\n",
        "result = cp.parse(tag)\n",
        "print(result)"
      ],
      "metadata": {
        "colab": {
          "base_uri": "https://localhost:8080/"
        },
        "id": "VMpp5_BvuGFS",
        "outputId": "0fef0f95-6346-431a-c2a9-93f21e49321e"
      },
      "execution_count": 23,
      "outputs": [
        {
          "output_type": "stream",
          "name": "stdout",
          "text": [
            "(S Sai/NNP is/VBZ now/RB flirting/VBG (NP Piyush/NN))\n"
          ]
        }
      ]
    }
  ]
}
