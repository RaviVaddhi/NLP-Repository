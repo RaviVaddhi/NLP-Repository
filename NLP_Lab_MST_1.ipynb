{
  "nbformat": 4,
  "nbformat_minor": 0,
  "metadata": {
    "colab": {
      "provenance": []
    },
    "kernelspec": {
      "name": "python3",
      "display_name": "Python 3"
    },
    "language_info": {
      "name": "python"
    }
  },
  "cells": [
    {
      "cell_type": "code",
      "execution_count": 17,
      "metadata": {
        "colab": {
          "base_uri": "https://localhost:8080/"
        },
        "id": "wATHpACNVTfm",
        "outputId": "c92e9cb1-72ea-4625-b1f8-c7162c01c8e4"
      },
      "outputs": [
        {
          "output_type": "stream",
          "name": "stdout",
          "text": [
            "Requirement already satisfied: nltk in /usr/local/lib/python3.10/dist-packages (3.8.1)\n",
            "Requirement already satisfied: click in /usr/local/lib/python3.10/dist-packages (from nltk) (8.1.7)\n",
            "Requirement already satisfied: joblib in /usr/local/lib/python3.10/dist-packages (from nltk) (1.3.2)\n",
            "Requirement already satisfied: regex>=2021.8.3 in /usr/local/lib/python3.10/dist-packages (from nltk) (2023.12.25)\n",
            "Requirement already satisfied: tqdm in /usr/local/lib/python3.10/dist-packages (from nltk) (4.66.2)\n"
          ]
        },
        {
          "output_type": "stream",
          "name": "stderr",
          "text": [
            "[nltk_data] Downloading package punkt to /root/nltk_data...\n",
            "[nltk_data]   Package punkt is already up-to-date!\n"
          ]
        },
        {
          "output_type": "execute_result",
          "data": {
            "text/plain": [
              "True"
            ]
          },
          "metadata": {},
          "execution_count": 17
        }
      ],
      "source": [
        "!pip install nltk\n",
        "import nltk\n",
        "from nltk.tokenize import word_tokenize\n",
        "nltk.download('punkt')"
      ]
    },
    {
      "cell_type": "code",
      "source": [
        "nltk.download('averaged_perceptron_tagger')\n"
      ],
      "metadata": {
        "colab": {
          "base_uri": "https://localhost:8080/"
        },
        "id": "sNUCJuZhVbob",
        "outputId": "468e382e-2e33-4617-e5ab-e3d9392932f8"
      },
      "execution_count": 18,
      "outputs": [
        {
          "output_type": "stream",
          "name": "stderr",
          "text": [
            "[nltk_data] Downloading package averaged_perceptron_tagger to\n",
            "[nltk_data]     /root/nltk_data...\n",
            "[nltk_data]   Package averaged_perceptron_tagger is already up-to-\n",
            "[nltk_data]       date!\n"
          ]
        },
        {
          "output_type": "execute_result",
          "data": {
            "text/plain": [
              "True"
            ]
          },
          "metadata": {},
          "execution_count": 18
        }
      ]
    },
    {
      "cell_type": "code",
      "source": [
        "story = \"\"\"In a kingdom far away, Cinderella, mistreated by her stepfamily, dreams of attending a grand ball. Her fairy godmother grants her wish, transforming her into a vision of beauty. At the ball, she captivates the prince but must flee before midnight, leaving behind a glass slipper. The prince searches for her, and when the slipper fits, they are reunited and marry, living happily ever after. Cinderella's tale teaches the enduring power of hope and true love.\"\"\""
      ],
      "metadata": {
        "id": "ejHKWwyPVblg"
      },
      "execution_count": 19,
      "outputs": []
    },
    {
      "cell_type": "code",
      "source": [
        "from nltk.tokenize import RegexpTokenizer\n",
        "tk = RegexpTokenizer(\"\\w+\")\n",
        "tokens = tk.tokenize(story)\n",
        "str(tokens)"
      ],
      "metadata": {
        "colab": {
          "base_uri": "https://localhost:8080/",
          "height": 103
        },
        "id": "9bhxFJLnVbic",
        "outputId": "ed7d2d43-e152-4ea5-eaf6-d3377ba95ea1"
      },
      "execution_count": 20,
      "outputs": [
        {
          "output_type": "execute_result",
          "data": {
            "text/plain": [
              "\"['In', 'a', 'kingdom', 'far', 'away', 'Cinderella', 'mistreated', 'by', 'her', 'stepfamily', 'dreams', 'of', 'attending', 'a', 'grand', 'ball', 'Her', 'fairy', 'godmother', 'grants', 'her', 'wish', 'transforming', 'her', 'into', 'a', 'vision', 'of', 'beauty', 'At', 'the', 'ball', 'she', 'captivates', 'the', 'prince', 'but', 'must', 'flee', 'before', 'midnight', 'leaving', 'behind', 'a', 'glass', 'slipper', 'The', 'prince', 'searches', 'for', 'her', 'and', 'when', 'the', 'slipper', 'fits', 'they', 'are', 'reunited', 'and', 'marry', 'living', 'happily', 'ever', 'after', 'Cinderella', 's', 'tale', 'teaches', 'the', 'enduring', 'power', 'of', 'hope', 'and', 'true', 'love']\""
            ],
            "application/vnd.google.colaboratory.intrinsic+json": {
              "type": "string"
            }
          },
          "metadata": {},
          "execution_count": 20
        }
      ]
    },
    {
      "cell_type": "code",
      "source": [
        "from nltk.tokenize import word_tokenize\n",
        "tokens2 = word_tokenize(story)\n",
        "tokens2"
      ],
      "metadata": {
        "colab": {
          "base_uri": "https://localhost:8080/"
        },
        "id": "rQf3MVSYVbf2",
        "outputId": "d9f7861d-8eae-4d2f-c09b-f27761071f0d"
      },
      "execution_count": 21,
      "outputs": [
        {
          "output_type": "execute_result",
          "data": {
            "text/plain": [
              "['In',\n",
              " 'a',\n",
              " 'kingdom',\n",
              " 'far',\n",
              " 'away',\n",
              " ',',\n",
              " 'Cinderella',\n",
              " ',',\n",
              " 'mistreated',\n",
              " 'by',\n",
              " 'her',\n",
              " 'stepfamily',\n",
              " ',',\n",
              " 'dreams',\n",
              " 'of',\n",
              " 'attending',\n",
              " 'a',\n",
              " 'grand',\n",
              " 'ball',\n",
              " '.',\n",
              " 'Her',\n",
              " 'fairy',\n",
              " 'godmother',\n",
              " 'grants',\n",
              " 'her',\n",
              " 'wish',\n",
              " ',',\n",
              " 'transforming',\n",
              " 'her',\n",
              " 'into',\n",
              " 'a',\n",
              " 'vision',\n",
              " 'of',\n",
              " 'beauty',\n",
              " '.',\n",
              " 'At',\n",
              " 'the',\n",
              " 'ball',\n",
              " ',',\n",
              " 'she',\n",
              " 'captivates',\n",
              " 'the',\n",
              " 'prince',\n",
              " 'but',\n",
              " 'must',\n",
              " 'flee',\n",
              " 'before',\n",
              " 'midnight',\n",
              " ',',\n",
              " 'leaving',\n",
              " 'behind',\n",
              " 'a',\n",
              " 'glass',\n",
              " 'slipper',\n",
              " '.',\n",
              " 'The',\n",
              " 'prince',\n",
              " 'searches',\n",
              " 'for',\n",
              " 'her',\n",
              " ',',\n",
              " 'and',\n",
              " 'when',\n",
              " 'the',\n",
              " 'slipper',\n",
              " 'fits',\n",
              " ',',\n",
              " 'they',\n",
              " 'are',\n",
              " 'reunited',\n",
              " 'and',\n",
              " 'marry',\n",
              " ',',\n",
              " 'living',\n",
              " 'happily',\n",
              " 'ever',\n",
              " 'after',\n",
              " '.',\n",
              " 'Cinderella',\n",
              " \"'s\",\n",
              " 'tale',\n",
              " 'teaches',\n",
              " 'the',\n",
              " 'enduring',\n",
              " 'power',\n",
              " 'of',\n",
              " 'hope',\n",
              " 'and',\n",
              " 'true',\n",
              " 'love',\n",
              " '.']"
            ]
          },
          "metadata": {},
          "execution_count": 21
        }
      ]
    },
    {
      "cell_type": "code",
      "source": [
        "len(tokens)"
      ],
      "metadata": {
        "colab": {
          "base_uri": "https://localhost:8080/"
        },
        "id": "ajwHaMmRVbdb",
        "outputId": "6d2d6e30-db89-415d-ae8d-b2e57ef8ff70"
      },
      "execution_count": 22,
      "outputs": [
        {
          "output_type": "execute_result",
          "data": {
            "text/plain": [
              "77"
            ]
          },
          "metadata": {},
          "execution_count": 22
        }
      ]
    },
    {
      "cell_type": "code",
      "source": [
        "from nltk.stem import SnowballStemmer\n",
        "lc=SnowballStemmer('english')"
      ],
      "metadata": {
        "id": "6XH18VXXVbbQ"
      },
      "execution_count": 23,
      "outputs": []
    },
    {
      "cell_type": "code",
      "source": [
        "tokenized_sentence = []\n",
        "for token in tokens:\n",
        "    tokenized_sentence.append(lc.stem(token))\n",
        "tokenized_sentence = \" \".join(tokenized_sentence)\n",
        "tokenized_sentence"
      ],
      "metadata": {
        "colab": {
          "base_uri": "https://localhost:8080/",
          "height": 69
        },
        "id": "smQ5C2K8VbYf",
        "outputId": "0f1cdb4c-46ee-413c-ffe1-25f7b7a52a5f"
      },
      "execution_count": 24,
      "outputs": [
        {
          "output_type": "execute_result",
          "data": {
            "text/plain": [
              "'in a kingdom far away cinderella mistreat by her stepfamili dream of attend a grand ball her fairi godmoth grant her wish transform her into a vision of beauti at the ball she captiv the princ but must flee befor midnight leav behind a glass slipper the princ search for her and when the slipper fit they are reunit and marri live happili ever after cinderella s tale teach the endur power of hope and true love'"
            ],
            "application/vnd.google.colaboratory.intrinsic+json": {
              "type": "string"
            }
          },
          "metadata": {},
          "execution_count": 24
        }
      ]
    },
    {
      "cell_type": "code",
      "source": [
        "nltk.download('stopwords')\n",
        "from nltk.corpus import stopwords\n",
        "stop_words = stopwords.words('english')\n",
        "print(stop_words)"
      ],
      "metadata": {
        "colab": {
          "base_uri": "https://localhost:8080/"
        },
        "id": "mkavw_-QVbVs",
        "outputId": "c0824e79-a933-4aa3-ddc8-502f1e305024"
      },
      "execution_count": 25,
      "outputs": [
        {
          "output_type": "stream",
          "name": "stdout",
          "text": [
            "['i', 'me', 'my', 'myself', 'we', 'our', 'ours', 'ourselves', 'you', \"you're\", \"you've\", \"you'll\", \"you'd\", 'your', 'yours', 'yourself', 'yourselves', 'he', 'him', 'his', 'himself', 'she', \"she's\", 'her', 'hers', 'herself', 'it', \"it's\", 'its', 'itself', 'they', 'them', 'their', 'theirs', 'themselves', 'what', 'which', 'who', 'whom', 'this', 'that', \"that'll\", 'these', 'those', 'am', 'is', 'are', 'was', 'were', 'be', 'been', 'being', 'have', 'has', 'had', 'having', 'do', 'does', 'did', 'doing', 'a', 'an', 'the', 'and', 'but', 'if', 'or', 'because', 'as', 'until', 'while', 'of', 'at', 'by', 'for', 'with', 'about', 'against', 'between', 'into', 'through', 'during', 'before', 'after', 'above', 'below', 'to', 'from', 'up', 'down', 'in', 'out', 'on', 'off', 'over', 'under', 'again', 'further', 'then', 'once', 'here', 'there', 'when', 'where', 'why', 'how', 'all', 'any', 'both', 'each', 'few', 'more', 'most', 'other', 'some', 'such', 'no', 'nor', 'not', 'only', 'own', 'same', 'so', 'than', 'too', 'very', 's', 't', 'can', 'will', 'just', 'don', \"don't\", 'should', \"should've\", 'now', 'd', 'll', 'm', 'o', 're', 've', 'y', 'ain', 'aren', \"aren't\", 'couldn', \"couldn't\", 'didn', \"didn't\", 'doesn', \"doesn't\", 'hadn', \"hadn't\", 'hasn', \"hasn't\", 'haven', \"haven't\", 'isn', \"isn't\", 'ma', 'mightn', \"mightn't\", 'mustn', \"mustn't\", 'needn', \"needn't\", 'shan', \"shan't\", 'shouldn', \"shouldn't\", 'wasn', \"wasn't\", 'weren', \"weren't\", 'won', \"won't\", 'wouldn', \"wouldn't\"]\n"
          ]
        },
        {
          "output_type": "stream",
          "name": "stderr",
          "text": [
            "[nltk_data] Downloading package stopwords to /root/nltk_data...\n",
            "[nltk_data]   Package stopwords is already up-to-date!\n"
          ]
        }
      ]
    },
    {
      "cell_type": "code",
      "source": [
        "if type(stop_words)==list:\n",
        "  stop_words.append(',')\n",
        "  stop_words.append(':')\n",
        "  stop_words.append(',')\n",
        "  stop_words.remove('it')\n",
        "  stop_words = set(stop_words)\n",
        "sstop_words = [token for token in tokens if token.lower() not in stop_words]"
      ],
      "metadata": {
        "id": "1MaM2FwgVbTl"
      },
      "execution_count": 26,
      "outputs": []
    },
    {
      "cell_type": "code",
      "source": [
        "print(sstop_words)"
      ],
      "metadata": {
        "colab": {
          "base_uri": "https://localhost:8080/"
        },
        "id": "4ThpwTK5VbRP",
        "outputId": "14909995-4d81-440f-f9b1-536d503c68f9"
      },
      "execution_count": 27,
      "outputs": [
        {
          "output_type": "stream",
          "name": "stdout",
          "text": [
            "['kingdom', 'far', 'away', 'Cinderella', 'mistreated', 'stepfamily', 'dreams', 'attending', 'grand', 'ball', 'fairy', 'godmother', 'grants', 'wish', 'transforming', 'vision', 'beauty', 'ball', 'captivates', 'prince', 'must', 'flee', 'midnight', 'leaving', 'behind', 'glass', 'slipper', 'prince', 'searches', 'slipper', 'fits', 'reunited', 'marry', 'living', 'happily', 'ever', 'Cinderella', 'tale', 'teaches', 'enduring', 'power', 'hope', 'true', 'love']\n"
          ]
        }
      ]
    },
    {
      "cell_type": "code",
      "source": [
        "len(sstop_words)"
      ],
      "metadata": {
        "colab": {
          "base_uri": "https://localhost:8080/"
        },
        "id": "rkHjbhwkVbPE",
        "outputId": "58ebb1f6-7fd8-490c-cdb7-212f0ce77d21"
      },
      "execution_count": 28,
      "outputs": [
        {
          "output_type": "execute_result",
          "data": {
            "text/plain": [
              "44"
            ]
          },
          "metadata": {},
          "execution_count": 28
        }
      ]
    },
    {
      "cell_type": "code",
      "source": [
        "pos_tags = nltk.pos_tag(tokens)"
      ],
      "metadata": {
        "id": "zMLdfdVVVbMI"
      },
      "execution_count": 29,
      "outputs": []
    },
    {
      "cell_type": "code",
      "source": [
        "print(pos_tags)"
      ],
      "metadata": {
        "colab": {
          "base_uri": "https://localhost:8080/"
        },
        "id": "bm8KxhQRVbKD",
        "outputId": "c00555b3-2c8d-4c8b-ad5d-1d5a6616c3ab"
      },
      "execution_count": 30,
      "outputs": [
        {
          "output_type": "stream",
          "name": "stdout",
          "text": [
            "[('In', 'IN'), ('a', 'DT'), ('kingdom', 'NN'), ('far', 'RB'), ('away', 'RB'), ('Cinderella', 'NNP'), ('mistreated', 'VBN'), ('by', 'IN'), ('her', 'PRP$'), ('stepfamily', 'JJ'), ('dreams', 'NNS'), ('of', 'IN'), ('attending', 'VBG'), ('a', 'DT'), ('grand', 'JJ'), ('ball', 'NN'), ('Her', 'NNP'), ('fairy', 'NN'), ('godmother', 'NN'), ('grants', 'VBZ'), ('her', 'PRP$'), ('wish', 'JJ'), ('transforming', 'NN'), ('her', 'PRP$'), ('into', 'IN'), ('a', 'DT'), ('vision', 'NN'), ('of', 'IN'), ('beauty', 'NN'), ('At', 'IN'), ('the', 'DT'), ('ball', 'NN'), ('she', 'PRP'), ('captivates', 'VBZ'), ('the', 'DT'), ('prince', 'NN'), ('but', 'CC'), ('must', 'MD'), ('flee', 'VB'), ('before', 'IN'), ('midnight', 'NN'), ('leaving', 'VBG'), ('behind', 'IN'), ('a', 'DT'), ('glass', 'NN'), ('slipper', 'IN'), ('The', 'DT'), ('prince', 'NN'), ('searches', 'NNS'), ('for', 'IN'), ('her', 'PRP$'), ('and', 'CC'), ('when', 'WRB'), ('the', 'DT'), ('slipper', 'NN'), ('fits', 'VBZ'), ('they', 'PRP'), ('are', 'VBP'), ('reunited', 'VBN'), ('and', 'CC'), ('marry', 'JJ'), ('living', 'NN'), ('happily', 'RB'), ('ever', 'RB'), ('after', 'IN'), ('Cinderella', 'NNP'), ('s', 'VBD'), ('tale', 'JJ'), ('teaches', 'NNS'), ('the', 'DT'), ('enduring', 'VBG'), ('power', 'NN'), ('of', 'IN'), ('hope', 'NN'), ('and', 'CC'), ('true', 'JJ'), ('love', 'NN')]\n"
          ]
        }
      ]
    },
    {
      "cell_type": "code",
      "source": [
        "from collections import Counter\n",
        "word_counts = Counter(sstop_words)\n",
        "most_frequent_words = word_counts.most_common(15)\n",
        "print(most_frequent_words)"
      ],
      "metadata": {
        "colab": {
          "base_uri": "https://localhost:8080/"
        },
        "id": "bOerLO7dVbHS",
        "outputId": "819350b1-7744-495f-d16b-a8c5c84ed0a9"
      },
      "execution_count": 31,
      "outputs": [
        {
          "output_type": "stream",
          "name": "stdout",
          "text": [
            "[('Cinderella', 2), ('ball', 2), ('prince', 2), ('slipper', 2), ('kingdom', 1), ('far', 1), ('away', 1), ('mistreated', 1), ('stepfamily', 1), ('dreams', 1), ('attending', 1), ('grand', 1), ('fairy', 1), ('godmother', 1), ('grants', 1)]\n"
          ]
        }
      ]
    },
    {
      "cell_type": "code",
      "source": [
        "import spacy\n",
        "\n",
        "nlp = spacy.load(\"en_core_web_sm\")\n",
        "doc = nlp(story)\n",
        "main_character = []\n",
        "for ent in doc.ents:\n",
        "    if ent.label_ == \"PERSON\":\n",
        "        main_character.append(ent.text)\n",
        "        break\n",
        "\n",
        "print(f\"Main character: {main_character}\")"
      ],
      "metadata": {
        "colab": {
          "base_uri": "https://localhost:8080/"
        },
        "id": "Vqn7gBomWGpM",
        "outputId": "36deb416-9183-4f95-8c84-91f785ac2dbf"
      },
      "execution_count": 16,
      "outputs": [
        {
          "output_type": "stream",
          "name": "stdout",
          "text": [
            "Main character: ['Cinderella']\n"
          ]
        }
      ]
    }
  ]
}