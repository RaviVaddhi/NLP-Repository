{
  "nbformat": 4,
  "nbformat_minor": 0,
  "metadata": {
    "colab": {
      "provenance": []
    },
    "kernelspec": {
      "name": "python3",
      "display_name": "Python 3"
    },
    "language_info": {
      "name": "python"
    }
  },
  "cells": [
    {
      "cell_type": "markdown",
      "source": [
        "Exp-6:- To Perform Name Entity recognition"
      ],
      "metadata": {
        "id": "q3z5fZR5p8pz"
      }
    },
    {
      "cell_type": "code",
      "execution_count": 13,
      "metadata": {
        "colab": {
          "base_uri": "https://localhost:8080/"
        },
        "id": "KV18_P0zpv1F",
        "outputId": "a4ebd604-d4f6-49c1-c088-dc8ce621a915"
      },
      "outputs": [
        {
          "output_type": "stream",
          "name": "stderr",
          "text": [
            "[nltk_data] Downloading package punkt to /root/nltk_data...\n",
            "[nltk_data]   Package punkt is already up-to-date!\n",
            "[nltk_data] Downloading package averaged_perceptron_tagger to\n",
            "[nltk_data]     /root/nltk_data...\n",
            "[nltk_data]   Package averaged_perceptron_tagger is already up-to-\n",
            "[nltk_data]       date!\n",
            "[nltk_data] Downloading package maxent_ne_chunker to\n",
            "[nltk_data]     /root/nltk_data...\n",
            "[nltk_data]   Package maxent_ne_chunker is already up-to-date!\n",
            "[nltk_data] Downloading package words to /root/nltk_data...\n",
            "[nltk_data]   Unzipping corpora/words.zip.\n"
          ]
        },
        {
          "output_type": "execute_result",
          "data": {
            "text/plain": [
              "True"
            ]
          },
          "metadata": {},
          "execution_count": 13
        }
      ],
      "source": [
        "import nltk\n",
        "nltk.download('punkt')\n",
        "nltk.download('averaged_perceptron_tagger')\n",
        "nltk.download('maxent_ne_chunker')\n",
        "nltk.download('words')"
      ]
    },
    {
      "cell_type": "code",
      "source": [
        "def extract_named_entities(text):\n",
        "    # Tokenize the text into sentences\n",
        "    sentences = nltk.sent_tokenize(text)\n",
        "\n",
        "    # Tokenize each sentence into words\n",
        "    tokenized_sentences = [nltk.word_tokenize(sentence) for sentence in sentences]\n",
        "\n",
        "    # Perform part-of-speech tagging on each tokenized sentence\n",
        "    pos_tagged_sentences = [nltk.pos_tag(sentence) for sentence in tokenized_sentences]\n",
        "\n",
        "    # Perform named entity recognition on each part-of-speech tagged sentence\n",
        "    named_entities = nltk.ne_chunk_sents(pos_tagged_sentences, binary=False)\n",
        "\n",
        "    # Extract named entities from the named entity trees\n",
        "    named_entities_list = []\n",
        "    for tree in named_entities:\n",
        "        for entity in tree:\n",
        "            if isinstance(entity, nltk.tree.Tree):\n",
        "                named_entities_list.append(' '.join([word for word, tag in entity.leaves()]))\n",
        "\n",
        "    return named_entities_list"
      ],
      "metadata": {
        "id": "g9Tl2HmnqM18"
      },
      "execution_count": 14,
      "outputs": []
    },
    {
      "cell_type": "code",
      "source": [
        "if __name__ == '__main__':\n",
        "    # Example text\n",
        "    text = \"\"\"\n",
        "    Apple is a technology company headquartered in Cupertino, California.\n",
        "    Tim Cook is the CEO of Apple Inc. The iPhone is one of their flagship products.\n",
        "    \"\"\"\n",
        "\n",
        "    # Extract named entities from the text\n",
        "    named_entities = extract_named_entities(text)\n",
        "\n",
        "    # Print the named entities\n",
        "    print(\"Named Entities:\")\n",
        "    for entity in named_entities:\n",
        "        print(entity)"
      ],
      "metadata": {
        "colab": {
          "base_uri": "https://localhost:8080/"
        },
        "id": "q3_bR2bDqQUE",
        "outputId": "eef49acd-3e22-4fe1-fb5f-3e8ab6907920"
      },
      "execution_count": 15,
      "outputs": [
        {
          "output_type": "stream",
          "name": "stdout",
          "text": [
            "Named Entities:\n",
            "Apple\n",
            "Cupertino\n",
            "California\n",
            "Tim\n",
            "Cook\n",
            "CEO\n",
            "Apple Inc\n",
            "iPhone\n"
          ]
        }
      ]
    }
  ]
}