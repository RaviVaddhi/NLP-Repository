{
  "nbformat": 4,
  "nbformat_minor": 0,
  "metadata": {
    "colab": {
      "provenance": []
    },
    "kernelspec": {
      "name": "python3",
      "display_name": "Python 3"
    },
    "language_info": {
      "name": "python"
    }
  },
  "cells": [
    {
      "cell_type": "markdown",
      "source": [
        "Exp-5: Frequency count identification for a sentence"
      ],
      "metadata": {
        "id": "R0VUICwro6lc"
      }
    },
    {
      "cell_type": "code",
      "source": [
        "from collections import Counter\n",
        "import re\n",
        "\n",
        "def word_frequency(sentence):\n",
        "    # Tokenize the sentence into words\n",
        "    words = re.findall(r'\\b\\w+\\b', sentence.lower())\n",
        "\n",
        "    # Count the frequency of each word\n",
        "    word_counts = Counter(words)\n",
        "\n",
        "    return word_counts\n",
        "\n",
        "if __name__ == '__main__':\n",
        "    # Example sentence\n",
        "    sentence = \"This is an example sentence. It contains some words, some of which may repeat.\"\n",
        "\n",
        "    # Calculate word frequency\n",
        "    frequencies = word_frequency(sentence)\n",
        "\n",
        "    # Print the frequency of each word\n",
        "    print(\"Word Frequency:\")\n",
        "    for word, count in frequencies.items():\n",
        "        print(f\"{word}: {count}\")"
      ],
      "metadata": {
        "colab": {
          "base_uri": "https://localhost:8080/"
        },
        "id": "5RQvioO6o11-",
        "outputId": "494378a0-0e36-4f9a-9534-fcee422c8f27"
      },
      "execution_count": 6,
      "outputs": [
        {
          "output_type": "stream",
          "name": "stdout",
          "text": [
            "Word Frequency:\n",
            "this: 1\n",
            "is: 1\n",
            "an: 1\n",
            "example: 1\n",
            "sentence: 1\n",
            "it: 1\n",
            "contains: 1\n",
            "some: 2\n",
            "words: 1\n",
            "of: 1\n",
            "which: 1\n",
            "may: 1\n",
            "repeat: 1\n"
          ]
        }
      ]
    }
  ]
}
