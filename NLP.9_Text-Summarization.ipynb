{
  "nbformat": 4,
  "nbformat_minor": 0,
  "metadata": {
    "colab": {
      "provenance": []
    },
    "kernelspec": {
      "name": "python3",
      "display_name": "Python 3"
    },
    "language_info": {
      "name": "python"
    }
  },
  "cells": [
    {
      "cell_type": "code",
      "execution_count": 1,
      "metadata": {
        "id": "JdVkDg94Bi4S"
      },
      "outputs": [],
      "source": [
        "# !pip install -U spacy\n",
        "# !python -m spacy download en_core_web_sm\n",
        "import spacy\n",
        "from spacy.lang.en.stop_words import STOP_WORDS\n",
        "from string import punctuation\n"
      ]
    },
    {
      "cell_type": "code",
      "source": [
        "# Define the text to summarize\n",
        "text = \"\"\"\n",
        "Evelyn Thorne (50s), a world-famous violinist known for her fiery passion and technical brilliance, is preparing for the biggest concert of her career – a solo performance at Carnegie Hall. However, beneath the surface, Evelyn carries the weight of a past shrouded in tragedy.\n",
        "Years ago, a devastating fire claimed the life of her younger sister, Lily, who also possessed a remarkable musical talent. Evelyn, the lone survivor, channeled her grief into her music, achieving stardom but at the cost of emotional isolation.\n",
        "Enter Sophia (18), Evelyn's estranged daughter. A gifted violinist in her own right, Sophia resents her mother's relentless push for perfection and the constant comparisons to the ghost of her aunt, Lily. Their dysfunctional relationship threatens to derail both their musical aspirations.\n",
        "As the pressure mounts for the Carnegie Hall performance, a series of events forces Evelyn and Sophia to confront their painful past. A mysterious fire destroys Evelyn's prized violin, a gift from Lily. A surprise visit from a former mentor reveals a long-held secret about the night of the fire. Sophia receives an invitation to an esteemed music school, an opportunity that could finally separate her from her mother's shadow.\n",
        "Evelyn, facing the limitations of her own mortality and the destructive impact of her choices, embarks on a journey of reconciliation. She seeks to connect with Sophia, not just as a musician, but also as a mother seeking forgiveness. They delve into their shared history, uncovering new truths about the fire and the life of Lily.\n",
        "The climax arrives with Carnegie Hall looming. Sophia grapples with the weight of expectation, her own desires, and the complex emotions she harbors for her mother. Evelyn, vulnerable and raw, must confront her deepest fears and the ghost of her past.\n",
        "Will they be able to mend their broken bond and find solace in their shared passion for music? Will Sophia choose her own path or succumb to the pressure of living up to her mother and aunt's legacy? The climactic performance at Carnegie Hall becomes a poignant culmination of their journey, a testament to the power of music to heal and the enduring love between a mother and daughter.\n",
        "\"\"\"\n",
        "\n"
      ],
      "metadata": {
        "id": "zwdxZbHNEao3"
      },
      "execution_count": 2,
      "outputs": []
    },
    {
      "cell_type": "code",
      "source": [
        "stopwords = list(STOP_WORDS)\n",
        "nlp = spacy.load(\"en_core_web_sm\")\n",
        "doc = nlp(text)"
      ],
      "metadata": {
        "id": "CeU1TN3oEbur"
      },
      "execution_count": 3,
      "outputs": []
    },
    {
      "cell_type": "code",
      "source": [
        "tokens = [token.text for token in doc]\n",
        "print(tokens)\n",
        "punctuation = punctuation + '\\n'\n",
        "print(punctuation)\n",
        "word_frequencies = {}\n",
        "for word in doc:\n",
        "  if word.text.lower() not in stopwords:\n",
        "    if word.text.lower() not in punctuation:\n",
        "      if word.text not in word_frequencies.keys():\n",
        "        word_frequencies[word.text] = 1\n",
        "      else:\n",
        "        word_frequencies[word.text] += 1\n",
        "print(word_frequencies)"
      ],
      "metadata": {
        "colab": {
          "base_uri": "https://localhost:8080/"
        },
        "id": "-EYKVxcAB9P_",
        "outputId": "02ef5b0c-481d-4a82-b37c-a504a04eb6d9"
      },
      "execution_count": 4,
      "outputs": [
        {
          "output_type": "stream",
          "name": "stdout",
          "text": [
            "['\\n', 'Evelyn', 'Thorne', '(', '50s', ')', ',', 'a', 'world', '-', 'famous', 'violinist', 'known', 'for', 'her', 'fiery', 'passion', 'and', 'technical', 'brilliance', ',', 'is', 'preparing', 'for', 'the', 'biggest', 'concert', 'of', 'her', 'career', '–', 'a', 'solo', 'performance', 'at', 'Carnegie', 'Hall', '.', 'However', ',', 'beneath', 'the', 'surface', ',', 'Evelyn', 'carries', 'the', 'weight', 'of', 'a', 'past', 'shrouded', 'in', 'tragedy', '.', '\\n', 'Years', 'ago', ',', 'a', 'devastating', 'fire', 'claimed', 'the', 'life', 'of', 'her', 'younger', 'sister', ',', 'Lily', ',', 'who', 'also', 'possessed', 'a', 'remarkable', 'musical', 'talent', '.', 'Evelyn', ',', 'the', 'lone', 'survivor', ',', 'channeled', 'her', 'grief', 'into', 'her', 'music', ',', 'achieving', 'stardom', 'but', 'at', 'the', 'cost', 'of', 'emotional', 'isolation', '.', '\\n', 'Enter', 'Sophia', '(', '18', ')', ',', 'Evelyn', \"'s\", 'estranged', 'daughter', '.', 'A', 'gifted', 'violinist', 'in', 'her', 'own', 'right', ',', 'Sophia', 'resents', 'her', 'mother', \"'s\", 'relentless', 'push', 'for', 'perfection', 'and', 'the', 'constant', 'comparisons', 'to', 'the', 'ghost', 'of', 'her', 'aunt', ',', 'Lily', '.', 'Their', 'dysfunctional', 'relationship', 'threatens', 'to', 'derail', 'both', 'their', 'musical', 'aspirations', '.', '\\n', 'As', 'the', 'pressure', 'mounts', 'for', 'the', 'Carnegie', 'Hall', 'performance', ',', 'a', 'series', 'of', 'events', 'forces', 'Evelyn', 'and', 'Sophia', 'to', 'confront', 'their', 'painful', 'past', '.', 'A', 'mysterious', 'fire', 'destroys', 'Evelyn', \"'s\", 'prized', 'violin', ',', 'a', 'gift', 'from', 'Lily', '.', 'A', 'surprise', 'visit', 'from', 'a', 'former', 'mentor', 'reveals', 'a', 'long', '-', 'held', 'secret', 'about', 'the', 'night', 'of', 'the', 'fire', '.', 'Sophia', 'receives', 'an', 'invitation', 'to', 'an', 'esteemed', 'music', 'school', ',', 'an', 'opportunity', 'that', 'could', 'finally', 'separate', 'her', 'from', 'her', 'mother', \"'s\", 'shadow', '.', '\\n', 'Evelyn', ',', 'facing', 'the', 'limitations', 'of', 'her', 'own', 'mortality', 'and', 'the', 'destructive', 'impact', 'of', 'her', 'choices', ',', 'embarks', 'on', 'a', 'journey', 'of', 'reconciliation', '.', 'She', 'seeks', 'to', 'connect', 'with', 'Sophia', ',', 'not', 'just', 'as', 'a', 'musician', ',', 'but', 'also', 'as', 'a', 'mother', 'seeking', 'forgiveness', '.', 'They', 'delve', 'into', 'their', 'shared', 'history', ',', 'uncovering', 'new', 'truths', 'about', 'the', 'fire', 'and', 'the', 'life', 'of', 'Lily', '.', '\\n', 'The', 'climax', 'arrives', 'with', 'Carnegie', 'Hall', 'looming', '.', 'Sophia', 'grapples', 'with', 'the', 'weight', 'of', 'expectation', ',', 'her', 'own', 'desires', ',', 'and', 'the', 'complex', 'emotions', 'she', 'harbors', 'for', 'her', 'mother', '.', 'Evelyn', ',', 'vulnerable', 'and', 'raw', ',', 'must', 'confront', 'her', 'deepest', 'fears', 'and', 'the', 'ghost', 'of', 'her', 'past', '.', '\\n', 'Will', 'they', 'be', 'able', 'to', 'mend', 'their', 'broken', 'bond', 'and', 'find', 'solace', 'in', 'their', 'shared', 'passion', 'for', 'music', '?', 'Will', 'Sophia', 'choose', 'her', 'own', 'path', 'or', 'succumb', 'to', 'the', 'pressure', 'of', 'living', 'up', 'to', 'her', 'mother', 'and', 'aunt', \"'s\", 'legacy', '?', 'The', 'climactic', 'performance', 'at', 'Carnegie', 'Hall', 'becomes', 'a', 'poignant', 'culmination', 'of', 'their', 'journey', ',', 'a', 'testament', 'to', 'the', 'power', 'of', 'music', 'to', 'heal', 'and', 'the', 'enduring', 'love', 'between', 'a', 'mother', 'and', 'daughter', '.', '\\n']\n",
            "!\"#$%&'()*+,-./:;<=>?@[\\]^_`{|}~\n",
            "\n",
            "{'Evelyn': 8, 'Thorne': 1, '50s': 1, 'world': 1, 'famous': 1, 'violinist': 2, 'known': 1, 'fiery': 1, 'passion': 2, 'technical': 1, 'brilliance': 1, 'preparing': 1, 'biggest': 1, 'concert': 1, 'career': 1, '–': 1, 'solo': 1, 'performance': 3, 'Carnegie': 4, 'Hall': 4, 'beneath': 1, 'surface': 1, 'carries': 1, 'weight': 2, 'past': 3, 'shrouded': 1, 'tragedy': 1, 'Years': 1, 'ago': 1, 'devastating': 1, 'fire': 4, 'claimed': 1, 'life': 2, 'younger': 1, 'sister': 1, 'Lily': 4, 'possessed': 1, 'remarkable': 1, 'musical': 2, 'talent': 1, 'lone': 1, 'survivor': 1, 'channeled': 1, 'grief': 1, 'music': 4, 'achieving': 1, 'stardom': 1, 'cost': 1, 'emotional': 1, 'isolation': 1, 'Enter': 1, 'Sophia': 7, '18': 1, 'estranged': 1, 'daughter': 2, 'gifted': 1, 'right': 1, 'resents': 1, 'mother': 6, 'relentless': 1, 'push': 1, 'perfection': 1, 'constant': 1, 'comparisons': 1, 'ghost': 2, 'aunt': 2, 'dysfunctional': 1, 'relationship': 1, 'threatens': 1, 'derail': 1, 'aspirations': 1, 'pressure': 2, 'mounts': 1, 'series': 1, 'events': 1, 'forces': 1, 'confront': 2, 'painful': 1, 'mysterious': 1, 'destroys': 1, 'prized': 1, 'violin': 1, 'gift': 1, 'surprise': 1, 'visit': 1, 'mentor': 1, 'reveals': 1, 'long': 1, 'held': 1, 'secret': 1, 'night': 1, 'receives': 1, 'invitation': 1, 'esteemed': 1, 'school': 1, 'opportunity': 1, 'finally': 1, 'separate': 1, 'shadow': 1, 'facing': 1, 'limitations': 1, 'mortality': 1, 'destructive': 1, 'impact': 1, 'choices': 1, 'embarks': 1, 'journey': 2, 'reconciliation': 1, 'seeks': 1, 'connect': 1, 'musician': 1, 'seeking': 1, 'forgiveness': 1, 'delve': 1, 'shared': 2, 'history': 1, 'uncovering': 1, 'new': 1, 'truths': 1, 'climax': 1, 'arrives': 1, 'looming': 1, 'grapples': 1, 'expectation': 1, 'desires': 1, 'complex': 1, 'emotions': 1, 'harbors': 1, 'vulnerable': 1, 'raw': 1, 'deepest': 1, 'fears': 1, 'able': 1, 'mend': 1, 'broken': 1, 'bond': 1, 'find': 1, 'solace': 1, 'choose': 1, 'path': 1, 'succumb': 1, 'living': 1, 'legacy': 1, 'climactic': 1, 'poignant': 1, 'culmination': 1, 'testament': 1, 'power': 1, 'heal': 1, 'enduring': 1, 'love': 1}\n"
          ]
        }
      ]
    },
    {
      "cell_type": "code",
      "source": [
        "max_frequency = max(word_frequencies.values())\n",
        "max_frequency\n",
        "for word in word_frequencies.keys():\n",
        "  word_frequencies[word] = word_frequencies[word]/max_frequency\n",
        "print(word_frequencies)\n",
        "sentence_tokens = [sent for sent in doc.sents]\n",
        "print(sentence_tokens)\n"
      ],
      "metadata": {
        "colab": {
          "base_uri": "https://localhost:8080/"
        },
        "id": "jCTTM495EZRz",
        "outputId": "d3b9438b-d8f9-4d39-a7a0-177e7805df89"
      },
      "execution_count": 5,
      "outputs": [
        {
          "output_type": "stream",
          "name": "stdout",
          "text": [
            "{'Evelyn': 1.0, 'Thorne': 0.125, '50s': 0.125, 'world': 0.125, 'famous': 0.125, 'violinist': 0.25, 'known': 0.125, 'fiery': 0.125, 'passion': 0.25, 'technical': 0.125, 'brilliance': 0.125, 'preparing': 0.125, 'biggest': 0.125, 'concert': 0.125, 'career': 0.125, '–': 0.125, 'solo': 0.125, 'performance': 0.375, 'Carnegie': 0.5, 'Hall': 0.5, 'beneath': 0.125, 'surface': 0.125, 'carries': 0.125, 'weight': 0.25, 'past': 0.375, 'shrouded': 0.125, 'tragedy': 0.125, 'Years': 0.125, 'ago': 0.125, 'devastating': 0.125, 'fire': 0.5, 'claimed': 0.125, 'life': 0.25, 'younger': 0.125, 'sister': 0.125, 'Lily': 0.5, 'possessed': 0.125, 'remarkable': 0.125, 'musical': 0.25, 'talent': 0.125, 'lone': 0.125, 'survivor': 0.125, 'channeled': 0.125, 'grief': 0.125, 'music': 0.5, 'achieving': 0.125, 'stardom': 0.125, 'cost': 0.125, 'emotional': 0.125, 'isolation': 0.125, 'Enter': 0.125, 'Sophia': 0.875, '18': 0.125, 'estranged': 0.125, 'daughter': 0.25, 'gifted': 0.125, 'right': 0.125, 'resents': 0.125, 'mother': 0.75, 'relentless': 0.125, 'push': 0.125, 'perfection': 0.125, 'constant': 0.125, 'comparisons': 0.125, 'ghost': 0.25, 'aunt': 0.25, 'dysfunctional': 0.125, 'relationship': 0.125, 'threatens': 0.125, 'derail': 0.125, 'aspirations': 0.125, 'pressure': 0.25, 'mounts': 0.125, 'series': 0.125, 'events': 0.125, 'forces': 0.125, 'confront': 0.25, 'painful': 0.125, 'mysterious': 0.125, 'destroys': 0.125, 'prized': 0.125, 'violin': 0.125, 'gift': 0.125, 'surprise': 0.125, 'visit': 0.125, 'mentor': 0.125, 'reveals': 0.125, 'long': 0.125, 'held': 0.125, 'secret': 0.125, 'night': 0.125, 'receives': 0.125, 'invitation': 0.125, 'esteemed': 0.125, 'school': 0.125, 'opportunity': 0.125, 'finally': 0.125, 'separate': 0.125, 'shadow': 0.125, 'facing': 0.125, 'limitations': 0.125, 'mortality': 0.125, 'destructive': 0.125, 'impact': 0.125, 'choices': 0.125, 'embarks': 0.125, 'journey': 0.25, 'reconciliation': 0.125, 'seeks': 0.125, 'connect': 0.125, 'musician': 0.125, 'seeking': 0.125, 'forgiveness': 0.125, 'delve': 0.125, 'shared': 0.25, 'history': 0.125, 'uncovering': 0.125, 'new': 0.125, 'truths': 0.125, 'climax': 0.125, 'arrives': 0.125, 'looming': 0.125, 'grapples': 0.125, 'expectation': 0.125, 'desires': 0.125, 'complex': 0.125, 'emotions': 0.125, 'harbors': 0.125, 'vulnerable': 0.125, 'raw': 0.125, 'deepest': 0.125, 'fears': 0.125, 'able': 0.125, 'mend': 0.125, 'broken': 0.125, 'bond': 0.125, 'find': 0.125, 'solace': 0.125, 'choose': 0.125, 'path': 0.125, 'succumb': 0.125, 'living': 0.125, 'legacy': 0.125, 'climactic': 0.125, 'poignant': 0.125, 'culmination': 0.125, 'testament': 0.125, 'power': 0.125, 'heal': 0.125, 'enduring': 0.125, 'love': 0.125}\n",
            "[\n",
            "Evelyn Thorne (50s), a world-famous violinist known for her fiery passion and technical brilliance, is preparing for the biggest concert of her career – a solo performance at Carnegie Hall., However, beneath the surface, Evelyn carries the weight of a past shrouded in tragedy.\n",
            ", Years ago, a devastating fire claimed the life of her younger sister, Lily, who also possessed a remarkable musical talent., Evelyn, the lone survivor, channeled her grief into her music, achieving stardom but at the cost of emotional isolation.\n",
            ", Enter Sophia (18), Evelyn's estranged daughter., A gifted violinist in her own right, Sophia resents her mother's relentless push for perfection and the constant comparisons to the ghost of her aunt, Lily., Their dysfunctional relationship threatens to derail both their musical aspirations.\n",
            ", As the pressure mounts for the Carnegie Hall performance, a series of events forces Evelyn and Sophia to confront their painful past., A mysterious fire destroys Evelyn's prized violin, a gift from Lily., A surprise visit from a former mentor reveals a long-held secret about the night of the fire., Sophia receives an invitation to an esteemed music school, an opportunity that could finally separate her from her mother's shadow.\n",
            "Evelyn, facing the limitations of her own mortality and the destructive impact of her choices, embarks on a journey of reconciliation., She seeks to connect with Sophia, not just as a musician, but also as a mother seeking forgiveness., They delve into their shared history, uncovering new truths about the fire and the life of Lily.\n",
            ", The climax arrives with Carnegie Hall looming., Sophia grapples with the weight of expectation, her own desires, and the complex emotions she harbors for her mother., Evelyn, vulnerable and raw, must confront her deepest fears and the ghost of her past.\n",
            ", Will they be able to mend their broken bond and find solace in their shared passion for music?, Will Sophia choose her own path or succumb to the pressure of living up to her mother and aunt's legacy?, The climactic performance at Carnegie Hall becomes a poignant culmination of their journey, a testament to the power of music to heal and the enduring love between a mother and daughter.\n",
            "]\n"
          ]
        }
      ]
    },
    {
      "cell_type": "code",
      "source": [
        "sentence_scores = {}\n",
        "for sent in sentence_tokens:\n",
        "  for word in sent:\n",
        "    if word.text.lower() in word_frequencies.keys():\n",
        "      if sent not in sentence_scores.keys():\n",
        "        sentence_scores[sent] = word_frequencies[word.text.lower()]\n",
        "      else:\n",
        "        sentence_scores[sent] += word_frequencies[word.text.lower()]\n",
        "sentence_scores\n"
      ],
      "metadata": {
        "colab": {
          "base_uri": "https://localhost:8080/"
        },
        "id": "le1e7G01By7D",
        "outputId": "4044c784-073b-4a66-faab-96d599f0786f"
      },
      "execution_count": 6,
      "outputs": [
        {
          "output_type": "execute_result",
          "data": {
            "text/plain": [
              "{\n",
              " Evelyn Thorne (50s), a world-famous violinist known for her fiery passion and technical brilliance, is preparing for the biggest concert of her career – a solo performance at Carnegie Hall.: 2.5,\n",
              " However, beneath the surface, Evelyn carries the weight of a past shrouded in tragedy.: 1.25,\n",
              " Years ago, a devastating fire claimed the life of her younger sister, Lily, who also possessed a remarkable musical talent.: 2.0,\n",
              " Evelyn, the lone survivor, channeled her grief into her music, achieving stardom but at the cost of emotional isolation.: 1.625,\n",
              " Enter Sophia (18), Evelyn's estranged daughter.: 0.5,\n",
              " A gifted violinist in her own right, Sophia resents her mother's relentless push for perfection and the constant comparisons to the ghost of her aunt, Lily.: 2.5,\n",
              " Their dysfunctional relationship threatens to derail both their musical aspirations.: 0.875,\n",
              " As the pressure mounts for the Carnegie Hall performance, a series of events forces Evelyn and Sophia to confront their painful past.: 1.875,\n",
              " A mysterious fire destroys Evelyn's prized violin, a gift from Lily.: 1.125,\n",
              " A surprise visit from a former mentor reveals a long-held secret about the night of the fire.: 1.5,\n",
              " Sophia receives an invitation to an esteemed music school, an opportunity that could finally separate her from her mother's shadow.\n",
              " Evelyn, facing the limitations of her own mortality and the destructive impact of her choices, embarks on a journey of reconciliation.: 3.5,\n",
              " She seeks to connect with Sophia, not just as a musician, but also as a mother seeking forgiveness.: 1.375,\n",
              " They delve into their shared history, uncovering new truths about the fire and the life of Lily.: 1.625,\n",
              " The climax arrives with Carnegie Hall looming.: 0.375,\n",
              " Sophia grapples with the weight of expectation, her own desires, and the complex emotions she harbors for her mother.: 1.75,\n",
              " Evelyn, vulnerable and raw, must confront her deepest fears and the ghost of her past.: 1.375,\n",
              " Will they be able to mend their broken bond and find solace in their shared passion for music?: 1.75,\n",
              " Will Sophia choose her own path or succumb to the pressure of living up to her mother and aunt's legacy?: 1.875,\n",
              " The climactic performance at Carnegie Hall becomes a poignant culmination of their journey, a testament to the power of music to heal and the enduring love between a mother and daughter.: 3.125}"
            ]
          },
          "metadata": {},
          "execution_count": 6
        }
      ]
    },
    {
      "cell_type": "code",
      "source": [
        "from heapq import nlargest\n",
        "\n",
        "# Assuming sentence_scores is a dictionary mapping sentence indexes to their scores\n",
        "select_length = int(len(sentence_tokens) * 0.3)\n",
        "# Get a list of sentence indexes with the highest scores\n",
        "highest_scoring_indexes = nlargest(select_length, sentence_scores, key=sentence_scores.get)\n",
        "# Initialize empty final summary list\n",
        "final_summary = []\n",
        "# Iterate through the highest scoring sentence indexes and extract words\n",
        "for index in highest_scoring_indexes:\n",
        "  if index.start < len(sentence_tokens):\n",
        "    sentence = sentence_tokens[index.start]\n",
        "    final_summary.extend(word.text for word in sentence)\n",
        "# Join words in final_summary with spaces to create the summary string\n",
        "summary = ' '.join(final_summary)\n",
        "print(summary)  # This will now print the final summary"
      ],
      "metadata": {
        "colab": {
          "base_uri": "https://localhost:8080/"
        },
        "id": "zwiYFQwwCBHQ",
        "outputId": "bbf72ef3-b152-487d-87c3-27502961c022"
      },
      "execution_count": 13,
      "outputs": [
        {
          "output_type": "stream",
          "name": "stdout",
          "text": [
            "\n",
            " Evelyn Thorne ( 50s ) , a world - famous violinist known for her fiery passion and technical brilliance , is preparing for the biggest concert of her career – a solo performance at Carnegie Hall .\n"
          ]
        }
      ]
    },
    {
      "cell_type": "code",
      "source": [],
      "metadata": {
        "id": "CxpgTnxNFvbY"
      },
      "execution_count": 8,
      "outputs": []
    }
  ]
}