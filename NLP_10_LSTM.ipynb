{
  "nbformat": 4,
  "nbformat_minor": 0,
  "metadata": {
    "colab": {
      "provenance": []
    },
    "kernelspec": {
      "name": "python3",
      "display_name": "Python 3"
    },
    "language_info": {
      "name": "python"
    }
  },
  "cells": [
    {
      "cell_type": "code",
      "source": [
        "import numpy as np\n",
        "import tensorflow as tf\n",
        "from tensorflow.keras.models import Sequential\n",
        "from tensorflow.keras.layers import LSTM, Dense, Embedding\n",
        "from tensorflow.keras.preprocessing.text import Tokenizer\n",
        "from tensorflow.keras.preprocessing.sequence import pad_sequences"
      ],
      "metadata": {
        "id": "eLZg5dTqe4K6"
      },
      "execution_count": 1,
      "outputs": []
    },
    {
      "cell_type": "code",
      "source": [
        "text_corpus = \"\"\"\n",
        "Say my name.” “Tread lightly.” “I am the one who knocks.”\n",
        "Evelyn Thorne (50s), a world-famous violinist known for her fiery passion and technical brilliance, is preparing for the biggest concert of her career – a solo performance at Carnegie Hall. However, beneath the surface, Evelyn carries the weight of a past shrouded in tragedy.\n",
        "Years ago, a devastating fire claimed the life of her younger sister, Lily, who also possessed a remarkable musical talent. Evelyn, the lone survivor, channeled her grief into her music, achieving stardom but at the cost of emotional isolation.\n",
        "Enter Sophia (18), Evelyn's estranged daughter. A gifted violinist in her own right, Sophia resents her mother's relentless push for perfection and the constant comparisons to the ghost of her aunt, Lily. Their dysfunctional relationship threatens to derail both their musical aspirations.\n",
        "As the pressure mounts for the Carnegie Hall performance, a series of events forces Evelyn and Sophia to confront their painful past. A mysterious fire destroys Evelyn's prized violin, a gift from Lily. A surprise visit from a former mentor reveals a long-held secret about the night of the fire. Sophia receives an invitation to an esteemed music school, an opportunity that could finally separate her from her mother's shadow.\n",
        "Evelyn, facing the limitations of her own mortality and the destructive impact of her choices, embarks on a journey of reconciliation. She seeks to connect with Sophia, not just as a musician, but also as a mother seeking forgiveness. They delve into their shared history, uncovering new truths about the fire and the life of Lily.\n",
        "The climax arrives with Carnegie Hall looming. Sophia grapples with the weight of expectation, her own desires, and the complex emotions she harbors for her mother. Evelyn, vulnerable and raw, must confront her deepest fears and the ghost of her past.\n",
        "Will they be able to mend their broken bond and find solace in their shared passion for music? Will Sophia choose her own path or succumb to the pressure of living up to her mother and aunt's legacy? The climactic performance at Carnegie Hall becomes a poignant culmination of their journey, a testament to the power of music to heal and the enduring love between a mother and daughter.\n",
        "\"\"\""
      ],
      "metadata": {
        "id": "3eGsiMRofFaA"
      },
      "execution_count": 2,
      "outputs": []
    },
    {
      "cell_type": "code",
      "source": [
        "tokenizer = Tokenizer()\n",
        "tokenizer.fit_on_texts([text_corpus])\n",
        "total_words = len(tokenizer.word_index) + 1"
      ],
      "metadata": {
        "id": "VtquJ6kMfsQk"
      },
      "execution_count": 3,
      "outputs": []
    },
    {
      "cell_type": "code",
      "source": [
        "input_sequences = []\n",
        "for line in text_corpus.split('\\n'):\n",
        "    token_list = tokenizer.texts_to_sequences([line])[0]\n",
        "    for i in range(1, len(token_list)):\n",
        "        n_gram_sequence = token_list[:i+1]\n",
        "        input_sequences.append(n_gram_sequence)"
      ],
      "metadata": {
        "id": "65Gk1SrwfwtM"
      },
      "execution_count": 4,
      "outputs": []
    },
    {
      "cell_type": "code",
      "source": [
        "max_sequence_length = max([len(x) for x in input_sequences])\n",
        "input_sequences = pad_sequences(input_sequences, maxlen=max_sequence_length, padding='pre')"
      ],
      "metadata": {
        "id": "1kP2aMXagBp9"
      },
      "execution_count": 5,
      "outputs": []
    },
    {
      "cell_type": "code",
      "source": [
        "X = input_sequences[:, :-1]\n",
        "y = input_sequences[:, -1]"
      ],
      "metadata": {
        "id": "jxswEMlQgFu-"
      },
      "execution_count": 6,
      "outputs": []
    },
    {
      "cell_type": "code",
      "source": [
        "model = Sequential()\n",
        "model.add(Embedding(total_words, 100, input_length=max_sequence_length-1))\n",
        "model.add(LSTM(150))\n",
        "model.add(Dense(total_words, activation='softmax'))"
      ],
      "metadata": {
        "id": "yxbd0OU1gKhF"
      },
      "execution_count": 7,
      "outputs": []
    },
    {
      "cell_type": "code",
      "source": [
        "learning_rate = 0.01\n",
        "batch_size = 50\n",
        "epochs = 10"
      ],
      "metadata": {
        "id": "Ja6WeqFEgbX1"
      },
      "execution_count": 8,
      "outputs": []
    },
    {
      "cell_type": "code",
      "source": [
        "optimizer = tf.keras.optimizers.Adam(learning_rate=learning_rate)\n",
        "model.compile(loss='sparse_categorical_crossentropy', optimizer=optimizer, metrics=['accuracy'])"
      ],
      "metadata": {
        "id": "ocaR6NuYgn7r"
      },
      "execution_count": 9,
      "outputs": []
    },
    {
      "cell_type": "code",
      "source": [
        "model.fit(X, y, epochs=epochs, batch_size=batch_size, verbose=1)"
      ],
      "metadata": {
        "colab": {
          "base_uri": "https://localhost:8080/"
        },
        "id": "-zGqbPHAguKi",
        "outputId": "4d91c4c4-cbd2-4edb-f389-378a8275ac7c"
      },
      "execution_count": 10,
      "outputs": [
        {
          "output_type": "stream",
          "name": "stdout",
          "text": [
            "Epoch 1/10\n",
            "8/8 [==============================] - 10s 231ms/step - loss: 5.2322 - accuracy: 0.0515\n",
            "Epoch 2/10\n",
            "8/8 [==============================] - 2s 215ms/step - loss: 4.9699 - accuracy: 0.0488\n",
            "Epoch 3/10\n",
            "8/8 [==============================] - 2s 240ms/step - loss: 4.7563 - accuracy: 0.0678\n",
            "Epoch 4/10\n",
            "8/8 [==============================] - 2s 263ms/step - loss: 4.4667 - accuracy: 0.0840\n",
            "Epoch 5/10\n",
            "8/8 [==============================] - 2s 311ms/step - loss: 3.9470 - accuracy: 0.1978\n",
            "Epoch 6/10\n",
            "8/8 [==============================] - 2s 200ms/step - loss: 3.2405 - accuracy: 0.2846\n",
            "Epoch 7/10\n",
            "8/8 [==============================] - 1s 161ms/step - loss: 2.5049 - accuracy: 0.4065\n",
            "Epoch 8/10\n",
            "8/8 [==============================] - 1s 150ms/step - loss: 1.7891 - accuracy: 0.5935\n",
            "Epoch 9/10\n",
            "8/8 [==============================] - 1s 144ms/step - loss: 1.1829 - accuracy: 0.7507\n",
            "Epoch 10/10\n",
            "8/8 [==============================] - 1s 149ms/step - loss: 0.7491 - accuracy: 0.8699\n"
          ]
        },
        {
          "output_type": "execute_result",
          "data": {
            "text/plain": [
              "<keras.src.callbacks.History at 0x79b0ffd271f0>"
            ]
          },
          "metadata": {},
          "execution_count": 10
        }
      ]
    },
    {
      "cell_type": "code",
      "source": [
        "import numpy as np\n",
        "\n",
        "def generate_text(seed_text, next_words, model, max_sequence_length):\n",
        "    for _ in range(next_words):\n",
        "        token_list = tokenizer.texts_to_sequences([seed_text])[0]\n",
        "        token_list = pad_sequences([token_list], maxlen=max_sequence_length-1, padding='pre')\n",
        "        predicted_probs = model.predict(token_list)[0]\n",
        "        predicted_word_index = np.random.choice(len(predicted_probs), p=predicted_probs)\n",
        "        output_word = tokenizer.index_word.get(predicted_word_index, \"\")\n",
        "        seed_text += \" \" + output_word\n",
        "    return seed_text"
      ],
      "metadata": {
        "id": "Wn0v2j_5g8Df"
      },
      "execution_count": 11,
      "outputs": []
    },
    {
      "cell_type": "code",
      "source": [
        "generated_text = generate_text(\"Generated Text:\", 10, model, max_sequence_length)\n",
        "print(generated_text)"
      ],
      "metadata": {
        "colab": {
          "base_uri": "https://localhost:8080/"
        },
        "id": "qzmkvFHlhBP6",
        "outputId": "3aa0eced-0955-473e-c4fb-98e0ca084103"
      },
      "execution_count": 12,
      "outputs": [
        {
          "output_type": "stream",
          "name": "stdout",
          "text": [
            "1/1 [==============================] - 0s 459ms/step\n",
            "1/1 [==============================] - 0s 30ms/step\n",
            "1/1 [==============================] - 0s 32ms/step\n",
            "1/1 [==============================] - 0s 32ms/step\n",
            "1/1 [==============================] - 0s 37ms/step\n",
            "1/1 [==============================] - 0s 29ms/step\n",
            "1/1 [==============================] - 0s 33ms/step\n",
            "1/1 [==============================] - 0s 39ms/step\n",
            "1/1 [==============================] - 0s 35ms/step\n",
            "1/1 [==============================] - 0s 34ms/step\n",
            "Generated Text: thorne 50s a musician but a violinist known for her\n"
          ]
        }
      ]
    },
    {
      "cell_type": "code",
      "source": [
        "val_loss, val_accuracy = model.evaluate(X, y, verbose=0)\n",
        "print(f\"Loss: {val_loss:.4f}\")\n",
        "print(f\" Accuracy: {val_accuracy:.4f}\")"
      ],
      "metadata": {
        "colab": {
          "base_uri": "https://localhost:8080/"
        },
        "id": "lyNURIDbkuLn",
        "outputId": "d16b1eef-5a3b-4d33-bc26-ede865239426"
      },
      "execution_count": 13,
      "outputs": [
        {
          "output_type": "stream",
          "name": "stdout",
          "text": [
            "Loss: 0.4613\n",
            " Accuracy: 0.9512\n"
          ]
        }
      ]
    },
    {
      "cell_type": "code",
      "source": [],
      "metadata": {
        "id": "s006hLZRBOU6"
      },
      "execution_count": null,
      "outputs": []
    }
  ]
}
