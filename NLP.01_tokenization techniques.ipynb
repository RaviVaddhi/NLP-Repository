{
  "nbformat": 4,
  "nbformat_minor": 0,
  "metadata": {
    "colab": {
      "provenance": []
    },
    "kernelspec": {
      "name": "python3",
      "display_name": "Python 3"
    },
    "language_info": {
      "name": "python"
    }
  },
  "cells": [
    {
      "cell_type": "markdown",
      "source": [
        "Experiment-1\n",
        "Different Tokenization techniques using NLTK"
      ],
      "metadata": {
        "id": "tGybf5IAevUW"
      }
    },
    {
      "cell_type": "code",
      "execution_count": 7,
      "metadata": {
        "colab": {
          "base_uri": "https://localhost:8080/"
        },
        "id": "zpWOZf9FbcZs",
        "outputId": "d4e810c4-397c-41c2-ad12-7d70b9794434"
      },
      "outputs": [
        {
          "output_type": "stream",
          "name": "stderr",
          "text": [
            "[nltk_data] Downloading package punkt to /root/nltk_data...\n",
            "[nltk_data]   Package punkt is already up-to-date!\n"
          ]
        }
      ],
      "source": [
        "import nltk\n",
        "nltk.download('punkt')\n",
        "from nltk import word_tokenize"
      ]
    },
    {
      "cell_type": "code",
      "source": [
        "X =\"I am in NLP Lab! Alright.\"\n",
        "word_tokenize(X)"
      ],
      "metadata": {
        "colab": {
          "base_uri": "https://localhost:8080/"
        },
        "id": "tHzn4YmNcbvM",
        "outputId": "5d77bf6e-407a-4f5a-b42d-2b534b978551"
      },
      "execution_count": 8,
      "outputs": [
        {
          "output_type": "execute_result",
          "data": {
            "text/plain": [
              "['I', 'am', 'in', 'NLP', 'Lab', '!', 'Alright', '.']"
            ]
          },
          "metadata": {},
          "execution_count": 8
        }
      ]
    },
    {
      "cell_type": "code",
      "source": [
        "from nltk.tokenize import WordPunctTokenizer\n",
        "WordPunctTokenizer().tokenize(X)"
      ],
      "metadata": {
        "colab": {
          "base_uri": "https://localhost:8080/"
        },
        "id": "9bN9um9VdJnU",
        "outputId": "d1c40102-dfd7-41ff-feba-e52411ba398a"
      },
      "execution_count": 9,
      "outputs": [
        {
          "output_type": "execute_result",
          "data": {
            "text/plain": [
              "['I', 'am', 'in', 'NLP', 'Lab', '!', 'Alright', '.']"
            ]
          },
          "metadata": {},
          "execution_count": 9
        }
      ]
    },
    {
      "cell_type": "code",
      "source": [
        "from nltk import RegexpTokenizer\n",
        "tokenizer = RegexpTokenizer(\"[\\w]+\")\n",
        "tokenizer.tokenize(X)"
      ],
      "metadata": {
        "colab": {
          "base_uri": "https://localhost:8080/"
        },
        "id": "i57XuG85eR19",
        "outputId": "b3ea8778-437c-4d57-af00-25e4a92527ce"
      },
      "execution_count": 10,
      "outputs": [
        {
          "output_type": "execute_result",
          "data": {
            "text/plain": [
              "['I', 'am', 'in', 'NLP', 'Lab', 'Alright']"
            ]
          },
          "metadata": {},
          "execution_count": 10
        }
      ]
    },
    {
      "cell_type": "code",
      "source": [
        "from nltk import sent_tokenize, word_tokenize\n",
        "Y = \"SHIVANI mam teaches good, but was absent in last many labs!\"\n",
        "sent_tokenize(Y)"
      ],
      "metadata": {
        "colab": {
          "base_uri": "https://localhost:8080/"
        },
        "id": "65sTjOMke0iF",
        "outputId": "be0a06da-7ac0-47b1-8474-e6dff9c7a798"
      },
      "execution_count": 11,
      "outputs": [
        {
          "output_type": "execute_result",
          "data": {
            "text/plain": [
              "['SHIVANI mam teaches good, but was absent in last many labs!']"
            ]
          },
          "metadata": {},
          "execution_count": 11
        }
      ]
    },
    {
      "cell_type": "code",
      "source": [
        "word_tokenize(Y)"
      ],
      "metadata": {
        "colab": {
          "base_uri": "https://localhost:8080/"
        },
        "id": "KBjMHIXbfTV2",
        "outputId": "a5f8d4cb-952f-481d-8693-a1930604d4cb"
      },
      "execution_count": 12,
      "outputs": [
        {
          "output_type": "execute_result",
          "data": {
            "text/plain": [
              "['SHIVANI',\n",
              " 'mam',\n",
              " 'teaches',\n",
              " 'good',\n",
              " ',',\n",
              " 'but',\n",
              " 'was',\n",
              " 'absent',\n",
              " 'in',\n",
              " 'last',\n",
              " 'many',\n",
              " 'labs',\n",
              " '!']"
            ]
          },
          "metadata": {},
          "execution_count": 12
        }
      ]
    }
  ]
}
