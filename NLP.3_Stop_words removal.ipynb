{
  "nbformat": 4,
  "nbformat_minor": 0,
  "metadata": {
    "colab": {
      "provenance": []
    },
    "kernelspec": {
      "name": "python3",
      "display_name": "Python 3"
    },
    "language_info": {
      "name": "python"
    }
  },
  "cells": [
    {
      "cell_type": "markdown",
      "source": [
        "Experiment-3 Removal of Stop words using NLTK"
      ],
      "metadata": {
        "id": "V1BOVEaeF7zS"
      }
    },
    {
      "cell_type": "code",
      "execution_count": 1,
      "metadata": {
        "id": "KC3Soe9bFP7q"
      },
      "outputs": [],
      "source": [
        "import nltk\n",
        "from IPython.display import clear_output\n",
        "from nltk.corpus import movie_reviews"
      ]
    },
    {
      "cell_type": "code",
      "source": [
        "nltk.download('movie_reviews')\n",
        "nltk.download('stopwords')\n",
        "nltk.download('punkt')\n",
        "clear_output()"
      ],
      "metadata": {
        "id": "cMaZANw9G1y3"
      },
      "execution_count": 2,
      "outputs": []
    },
    {
      "cell_type": "code",
      "source": [
        "sample = movie_reviews.sents(categories='pos')[:1]\n",
        "print(sample)"
      ],
      "metadata": {
        "colab": {
          "base_uri": "https://localhost:8080/"
        },
        "id": "rfuVwoZNGBqa",
        "outputId": "ccf08c86-ded0-4701-ae3c-bc6e68529199"
      },
      "execution_count": 3,
      "outputs": [
        {
          "output_type": "stream",
          "name": "stdout",
          "text": [
            "[['films', 'adapted', 'from', 'comic', 'books', 'have', 'had', 'plenty', 'of', 'success', ',', 'whether', 'they', \"'\", 're', 'about', 'superheroes', '(', 'batman', ',', 'superman', ',', 'spawn', ')', ',', 'or', 'geared', 'toward', 'kids', '(', 'casper', ')', 'or', 'the', 'arthouse', 'crowd', '(', 'ghost', 'world', ')', ',', 'but', 'there', \"'\", 's', 'never', 'really', 'been', 'a', 'comic', 'book', 'like', 'from', 'hell', 'before', '.']]\n"
          ]
        }
      ]
    },
    {
      "cell_type": "code",
      "source": [
        "stop_words = set(nltk.corpus.stopwords.words('english'))\n",
        "print(stop_words)"
      ],
      "metadata": {
        "colab": {
          "base_uri": "https://localhost:8080/"
        },
        "id": "It1d5TNYGEL3",
        "outputId": "eafd4197-5bcc-4af3-dbaf-7fc3e7bbc088"
      },
      "execution_count": 4,
      "outputs": [
        {
          "output_type": "stream",
          "name": "stdout",
          "text": [
            "{'than', 'haven', 'themselves', 'such', 'couldn', \"should've\", 't', 'from', 'wasn', 'should', 'you', 'for', 'yours', \"don't\", 'while', 'll', 'isn', \"weren't\", 'very', 'needn', 'yourself', 'ma', 'your', 'now', \"aren't\", 'any', 'himself', 'am', 'to', 'mustn', 'after', 'they', 'that', 'won', 'under', 'me', 'was', 'same', 'herself', \"wouldn't\", 'each', 'own', 'i', 'into', 'him', 'other', 'until', 'more', \"you're\", 'she', 'too', 'the', 'have', 'there', 'only', 'doesn', \"haven't\", 'about', 'his', \"mightn't\", 'between', 'theirs', 'wouldn', 'my', 'down', 'during', 'why', 'if', 'itself', 'been', \"hadn't\", 'what', \"won't\", 'hadn', 'its', 'out', 'hers', 'up', 'where', 'can', 've', 'nor', 're', 'y', 'no', 'did', 'this', 'is', 'and', 'who', 'below', 'shouldn', 'against', 'some', 'myself', 'those', 'how', 'once', 'further', 'because', 'their', \"you'd\", \"hasn't\", \"it's\", 'again', 'does', 'didn', 'o', 'doing', 'them', 'before', 'in', \"needn't\", 'these', 'were', 'by', 'hasn', \"mustn't\", 'of', 'which', 'he', 'off', \"shouldn't\", 's', 'ain', 'are', 'here', 'had', 'at', 'our', 'whom', 'a', 'mightn', \"that'll\", 'on', 'd', 'through', 'shan', 'm', 'don', 'all', 'her', \"doesn't\", 'most', 'not', 'will', 'so', 'or', 'be', 'an', 'yourselves', 'just', 'it', 'then', \"you'll\", 'we', 'as', 'over', 'both', \"couldn't\", 'ours', 'with', 'above', 'aren', \"shan't\", 'when', 'ourselves', 'do', \"you've\", \"wasn't\", 'few', 'weren', 'has', \"didn't\", \"she's\", 'being', \"isn't\", 'but', 'having'}\n"
          ]
        }
      ]
    },
    {
      "cell_type": "code",
      "source": [
        "filtered_words = []\n",
        "\n",
        "for word in sample[0]:\n",
        "  if word not in stop_words:\n",
        "    filtered_words.append(word)\n",
        "\n",
        "print(filtered_words)"
      ],
      "metadata": {
        "colab": {
          "base_uri": "https://localhost:8080/"
        },
        "id": "yRQfy9FWGiNh",
        "outputId": "c52872be-9a99-48a2-989c-2427a3d42754"
      },
      "execution_count": 5,
      "outputs": [
        {
          "output_type": "stream",
          "name": "stdout",
          "text": [
            "['films', 'adapted', 'comic', 'books', 'plenty', 'success', ',', 'whether', \"'\", 'superheroes', '(', 'batman', ',', 'superman', ',', 'spawn', ')', ',', 'geared', 'toward', 'kids', '(', 'casper', ')', 'arthouse', 'crowd', '(', 'ghost', 'world', ')', ',', \"'\", 'never', 'really', 'comic', 'book', 'like', 'hell', '.']\n"
          ]
        }
      ]
    },
    {
      "cell_type": "code",
      "source": [
        "filtered_sample = \" \".join(filtered_words)"
      ],
      "metadata": {
        "id": "bwnGe-WUIznD"
      },
      "execution_count": 6,
      "outputs": []
    },
    {
      "cell_type": "code",
      "source": [
        "print(\"Original sentence:\", sample)\n",
        "print(\"Filtered sentence:\", filtered_sample)"
      ],
      "metadata": {
        "colab": {
          "base_uri": "https://localhost:8080/"
        },
        "id": "NyHaGMX6H4Wz",
        "outputId": "7b61cd11-f938-4d31-d61b-56d94b445454"
      },
      "execution_count": 7,
      "outputs": [
        {
          "output_type": "stream",
          "name": "stdout",
          "text": [
            "Original sentence: [['films', 'adapted', 'from', 'comic', 'books', 'have', 'had', 'plenty', 'of', 'success', ',', 'whether', 'they', \"'\", 're', 'about', 'superheroes', '(', 'batman', ',', 'superman', ',', 'spawn', ')', ',', 'or', 'geared', 'toward', 'kids', '(', 'casper', ')', 'or', 'the', 'arthouse', 'crowd', '(', 'ghost', 'world', ')', ',', 'but', 'there', \"'\", 's', 'never', 'really', 'been', 'a', 'comic', 'book', 'like', 'from', 'hell', 'before', '.']]\n",
            "Filtered sentence: films adapted comic books plenty success , whether ' superheroes ( batman , superman , spawn ) , geared toward kids ( casper ) arthouse crowd ( ghost world ) , ' never really comic book like hell .\n"
          ]
        }
      ]
    }
  ]
}