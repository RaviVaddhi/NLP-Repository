{
  "nbformat": 4,
  "nbformat_minor": 0,
  "metadata": {
    "colab": {
      "provenance": []
    },
    "kernelspec": {
      "name": "python3",
      "display_name": "Python 3"
    },
    "language_info": {
      "name": "python"
    }
  },
  "cells": [
    {
      "cell_type": "markdown",
      "source": [
        "Exp-7:- Perform Sentimental Analysis on movie reviews"
      ],
      "metadata": {
        "id": "ltMIKobiq2Yg"
      }
    },
    {
      "cell_type": "code",
      "execution_count": 5,
      "metadata": {
        "id": "PHpE6uaCpvsP"
      },
      "outputs": [],
      "source": [
        "import nltk\n",
        "from nltk.corpus import movie_reviews\n",
        "from nltk.classify import NaiveBayesClassifier\n",
        "from nltk.classify.util import accuracy as nltk_accuracy\n",
        "from nltk.tokenize import word_tokenize\n",
        "from nltk.corpus import stopwords\n",
        "from nltk.stem import WordNetLemmatizer\n",
        "import random"
      ]
    },
    {
      "cell_type": "code",
      "source": [
        "# Download NLTK resources if not already downloaded\n",
        "nltk.download('punkt')\n",
        "nltk.download('stopwords')\n",
        "nltk.download('wordnet')\n",
        "nltk.download('movie_reviews')"
      ],
      "metadata": {
        "colab": {
          "base_uri": "https://localhost:8080/"
        },
        "id": "-YF3klbfqqNz",
        "outputId": "64ee1f00-2e39-488c-feed-d2308d4d7875"
      },
      "execution_count": 6,
      "outputs": [
        {
          "output_type": "stream",
          "name": "stderr",
          "text": [
            "[nltk_data] Downloading package punkt to /root/nltk_data...\n",
            "[nltk_data]   Package punkt is already up-to-date!\n",
            "[nltk_data] Downloading package stopwords to /root/nltk_data...\n",
            "[nltk_data]   Package stopwords is already up-to-date!\n",
            "[nltk_data] Downloading package wordnet to /root/nltk_data...\n",
            "[nltk_data]   Package wordnet is already up-to-date!\n",
            "[nltk_data] Downloading package movie_reviews to /root/nltk_data...\n",
            "[nltk_data]   Package movie_reviews is already up-to-date!\n"
          ]
        },
        {
          "output_type": "execute_result",
          "data": {
            "text/plain": [
              "True"
            ]
          },
          "metadata": {},
          "execution_count": 6
        }
      ]
    },
    {
      "cell_type": "code",
      "source": [
        "# Function to preprocess the text data\n",
        "def preprocess_text(text):\n",
        "    # Tokenize the text\n",
        "    tokens = word_tokenize(text)\n",
        "\n",
        "    # Remove stopwords and punctuation\n",
        "    stop_words = set(stopwords.words('english'))\n",
        "    filtered_tokens = [word.lower() for word in tokens if word.isalnum() and word.lower() not in stop_words]\n",
        "\n",
        "    # Lemmatize the words\n",
        "    lemmatizer = WordNetLemmatizer()\n",
        "    lemmatized_tokens = [lemmatizer.lemmatize(word) for word in filtered_tokens]\n",
        "\n",
        "    return lemmatized_tokens"
      ],
      "metadata": {
        "id": "O6zHM-3KqqLN"
      },
      "execution_count": 7,
      "outputs": []
    },
    {
      "cell_type": "code",
      "source": [
        "# Function to extract features from the input text\n",
        "def extract_features(words):\n",
        "    return dict([(word, True) for word in words])\n",
        "\n",
        "if __name__ == '__main__':\n",
        "    # Load movie reviews from NLTK corpus\n",
        "    documents = [(list(preprocess_text(movie_reviews.raw(fileid))), category)\n",
        "                 for category in movie_reviews.categories()\n",
        "                 for fileid in movie_reviews.fileids(category)]\n",
        "\n",
        "    # Shuffle the documents\n",
        "    random.shuffle(documents)\n",
        "\n",
        "    # Split the dataset into training and testing sets\n",
        "    split_ratio = 0.8\n",
        "    split_index = int(split_ratio * len(documents))\n",
        "    train_set = documents[:split_index]\n",
        "    test_set = documents[split_index:]\n",
        "\n",
        "    # Train a Naive Bayes classifier\n",
        "    classifier = NaiveBayesClassifier.train([(extract_features(words), category) for words, category in train_set])\n",
        "\n",
        "    # Evaluate the classifier accuracy\n",
        "    accuracy = nltk_accuracy(classifier, [(extract_features(words), category) for words, category in test_set])\n",
        "    print(\"Classifier Accuracy:\", accuracy)\n",
        "\n",
        "    # Test the classifier with custom movie reviews\n",
        "    test_reviews = [\n",
        "        \"This movie is fantastic!\",\n",
        "        \"I disliked this movie. It was terrible.\",\n",
        "        \"The plot was confusing but the acting was good.\",\n",
        "        \"A masterpiece of cinematography and storytelling.\"\n",
        "    ]\n",
        "\n",
        "    print(\"\\nPredictions for custom reviews:\")\n",
        "    for review in test_reviews:\n",
        "        tokens = preprocess_text(review)\n",
        "        features = extract_features(tokens)\n",
        "        sentiment = classifier.classify(features)\n",
        "        print(f\"Review: {review}\")\n",
        "        print(f\"Sentiment: {sentiment}\\n\")"
      ],
      "metadata": {
        "colab": {
          "base_uri": "https://localhost:8080/"
        },
        "id": "xXKx1hq2qqJM",
        "outputId": "e1a25d7a-84c7-4726-ebf4-a942ff37f14d"
      },
      "execution_count": 4,
      "outputs": [
        {
          "output_type": "stream",
          "name": "stdout",
          "text": [
            "Classifier Accuracy: 0.77\n",
            "\n",
            "Predictions for custom reviews:\n",
            "Review: This movie is fantastic!\n",
            "Sentiment: pos\n",
            "\n",
            "Review: I disliked this movie. It was terrible.\n",
            "Sentiment: neg\n",
            "\n",
            "Review: The plot was confusing but the acting was good.\n",
            "Sentiment: neg\n",
            "\n",
            "Review: A masterpiece of cinematography and storytelling.\n",
            "Sentiment: pos\n",
            "\n"
          ]
        }
      ]
    }
  ]
}